{
 "cells": [
  {
   "cell_type": "markdown",
   "metadata": {},
   "source": [
    "## Import the libraries"
   ]
  },
  {
   "cell_type": "code",
   "execution_count": 7,
   "metadata": {},
   "outputs": [],
   "source": [
    "from selenium import webdriver\n",
    "from bs4 import BeautifulSoup\n",
    "import pandas as pd"
   ]
  },
  {
   "cell_type": "markdown",
   "metadata": {},
   "source": [
    "## Configure Webdriver for Chrome"
   ]
  },
  {
   "cell_type": "code",
   "execution_count": 8,
   "metadata": {},
   "outputs": [],
   "source": [
    "driver = webdriver.Chrome(\"chromedriver\")"
   ]
  },
  {
   "cell_type": "markdown",
   "metadata": {},
   "source": [
    "## Get data from website"
   ]
  },
  {
   "cell_type": "code",
   "execution_count": 9,
   "metadata": {},
   "outputs": [],
   "source": [
    "movie_name = 'joker_2019'\n",
    "reviews = []\n",
    "score = []\n",
    "i = 0\n",
    "while(True):\n",
    "    i += 1\n",
    "    driver.get(\"https://www.rottentomatoes.com/m/\"+movie_name+\"/reviews?type=&sort=&page=\" + str(i))\n",
    "    content = driver.page_source\n",
    "    soup = BeautifulSoup(content)   \n",
    "    if(soup.find('strong')):\n",
    "        if \"No Reviews for\" in \" \".join(soup.find('strong').text.strip().split()):\n",
    "            break\n",
    "    for a in soup.findAll('div', attrs = {'class':'the_review'}):\n",
    "        reviews.append(a.text.strip().replace('\"',''))\n",
    "    for a in soup.findAll('div', attrs = {'class':'row review_table_row'}):\n",
    "        if a.find('div', attrs = {'class':'review_icon icon small rotten'}):\n",
    "            score.append(\"Rotten\")\n",
    "        elif a.find('div', attrs = {'class':'review_icon icon small fresh'}):\n",
    "            score.append(\"Fresh\")"
   ]
  },
  {
   "cell_type": "markdown",
   "metadata": {},
   "source": [
    "## Store data in csv"
   ]
  },
  {
   "cell_type": "code",
   "execution_count": 10,
   "metadata": {},
   "outputs": [],
   "source": [
    "dataframe = pd.DataFrame({'Reviews':reviews,'Score':score})\n",
    "dataframe.to_csv(movie_name+'.csv', index = False, encoding = 'utf-8')"
   ]
  }
 ],
 "metadata": {
  "kernelspec": {
   "display_name": "Python 3",
   "language": "python",
   "name": "python3"
  },
  "language_info": {
   "codemirror_mode": {
    "name": "ipython",
    "version": 3
   },
   "file_extension": ".py",
   "mimetype": "text/x-python",
   "name": "python",
   "nbconvert_exporter": "python",
   "pygments_lexer": "ipython3",
   "version": "3.7.4"
  }
 },
 "nbformat": 4,
 "nbformat_minor": 2
}
